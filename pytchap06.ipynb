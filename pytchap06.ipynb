{
 "cells": [
  {
   "cell_type": "markdown",
   "metadata": {},
   "source": [
    "Interaction n°1\n",
    "Vérifier que le programme Python ci-dessous fonctionne et donne le même résultat que votre tableau des variables, puis modifier le pour l’adapter au cas suivant : Il y a déjà 50 euros dans la tirelire, on ne verse que 5 euros tous les mois et on veut savoir quand on aura 451 euros à dépenser."
   ]
  },
  {
   "cell_type": "code",
   "execution_count": null,
   "metadata": {},
   "outputs": [],
   "source": [
    "from math import *\n",
    "U=0\n",
    "R=20\n",
    "N=0\n",
    "while U<90:\n",
    "    U=U+R\n",
    "    N=N+1\n",
    "print(\"il faut\",N,\"mois pour 90\")"
   ]
  },
  {
   "cell_type": "markdown",
   "metadata": {},
   "source": [
    "Interaction n°2 :\n",
    "Modifier le programme Python de départ (20 euros par mois à partir d’une tirelire vide) mais le programme demande la somme à économiser."
   ]
  },
  {
   "cell_type": "code",
   "execution_count": null,
   "metadata": {},
   "outputs": [],
   "source": [
    "from math import *\n",
    "###\n",
    "U=0\n",
    "R=20\n",
    "N=0\n",
    "while ###\n",
    "    U=U+R\n",
    "    N=N+1\n",
    "print(\"il faut\",N,\"mois pour ###)"
   ]
  },
  {
   "cell_type": "markdown",
   "metadata": {},
   "source": [
    "Interaction n°3 :\n",
    "Ecrire le programme Python où le programme vous demande la somme économisée par mois, la somme dans la tirelire au départ, la somme à économiser."
   ]
  },
  {
   "cell_type": "code",
   "execution_count": null,
   "metadata": {},
   "outputs": [],
   "source": [
    "from math import *\n",
    "###\n",
    "###\n",
    "###\n",
    "###\n",
    "###\n",
    "###\n",
    "###\n",
    "###\n",
    "while ###\n",
    "    U=U+R\n",
    "    N=N+1\n",
    "print(\"il faut\",N,\"mois pour ###"
   ]
  },
  {
   "cell_type": "markdown",
   "metadata": {},
   "source": [
    "Interaction n°4\n",
    "Remplir le début du tableau des variables pour expliquer la nature de la suite (U n ) et (V n ) et l’utilité de (W n )."
   ]
  },
  {
   "cell_type": "code",
   "execution_count": null,
   "metadata": {},
   "outputs": [],
   "source": [
    "from math import *\n",
    "u=0\n",
    "U=[0]\n",
    "v=3\n",
    "V=[3]\n",
    "W=[3]\n",
    "for n in range(1,20) :\n",
    "    u=u+2\n",
    "    U=U+[u]\n",
    "    v=1.2*v\n",
    "    V=V+[v]\n",
    "    w=V[n]-U[n]\n",
    "    W=W+[w]\n",
    "print(\"(Un)=\",U)\n",
    "print(\"(Vn)=\",V)\n",
    "print(\"(Wn)=\",W)"
   ]
  },
  {
   "cell_type": "markdown",
   "metadata": {},
   "source": [
    "Interaction n°5\n",
    "Modifier le programme n°4 pour que le programme signale le premier rang pour lesquels Un < Vn. La suite (U n ) est une suite arithmétique de raison -1 et de premier terme 40. La suite (V n ) est une suite géométrique de raison 0,5 et de premier terme 30. (conseils, utiliser la suite W n )."
   ]
  },
  {
   "cell_type": "code",
   "execution_count": null,
   "metadata": {},
   "outputs": [],
   "source": [
    "from math import *\n",
    "u=40\n",
    "U=[40]\n",
    "v=30\n",
    "V=[30]\n",
    "W=[10]\n",
    "###\n",
    "for n in range(1,20) :\n",
    "    u=u-1\n",
    "    U=U+[u]\n",
    "    v=0.5*v\n",
    "    V=V+[v]\n",
    "    w=V[n]-U[n]\n",
    "    W=W+[w]\n",
    "    ###\n",
    "    ###\n",
    "print(\"Un < Vn a partir du rang ###"
   ]
  }
 ],
 "metadata": {
  "kernelspec": {
   "display_name": "Python 3",
   "language": "python",
   "name": "python3"
  },
  "language_info": {
   "codemirror_mode": {
    "name": "ipython",
    "version": 3
   },
   "file_extension": ".py",
   "mimetype": "text/x-python",
   "name": "python",
   "nbconvert_exporter": "python",
   "pygments_lexer": "ipython3",
   "version": "3.7.6"
  }
 },
 "nbformat": 4,
 "nbformat_minor": 4
}
